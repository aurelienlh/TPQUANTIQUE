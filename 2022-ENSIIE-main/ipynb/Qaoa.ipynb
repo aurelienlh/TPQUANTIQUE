{
 "cells": [
  {
   "cell_type": "code",
   "execution_count": 1,
   "metadata": {},
   "outputs": [
    {
     "name": "stdout",
     "output_type": "stream",
     "text": [
      "AerSimulator('aer_simulator')\n",
      "AerSimulator('aer_simulator')\n",
      "AerSimulator('aer_simulator')\n",
      "AerSimulator('aer_simulator')\n",
      "AerSimulator('aer_simulator')\n",
      "AerSimulator('aer_simulator')\n",
      "AerSimulator('aer_simulator')\n",
      "AerSimulator('aer_simulator')\n",
      "QasmSimulator('qasm_simulator')\n",
      "StatevectorSimulator('statevector_simulator')\n",
      "UnitarySimulator('unitary_simulator')\n"
     ]
    }
   ],
   "source": [
    "import qiskit\n",
    "qiskit.__qiskit_version__\n",
    "from qiskit import QuantumCircuit, QuantumRegister, ClassicalRegister\n",
    "from qiskit import Aer\n",
    "from qiskit import execute\n",
    "\n",
    "#print(Aer.backends()) # ou de man\n",
    "backend_list  = Aer.backends()\n",
    "for be in backend_list:\n",
    "    print(be)\n",
    "backend = Aer.get_backend('qasm_simulator')"
   ]
  },
  {
   "cell_type": "markdown",
   "metadata": {},
   "source": [
    "Exercice 1\n",
    "1)On reformule le problème de couverture minimal \n",
    "$$ min \\sum_{i,j \\in E} x_{ij}$$\n",
    "sc $\\begin{cases}\n",
    " pour \\quad tout \\quad v \\in V, \\sum_{k \\in V} x_{vk} >=1 \\\\\n",
    " et \\quad pour \\quad tout \\quad (i,j) \\in E,x_{ij} \\in[[0,1]]\n",
    "\\end{cases}$"
   ]
  },
  {
   "cell_type": "markdown",
   "metadata": {},
   "source": [
    "Exercice 2"
   ]
  },
  {
   "cell_type": "markdown",
   "metadata": {},
   "source": [
    "On a pc(x)=0 satisfait la contrainte C et pc(x)>0 sinon\n",
    "On note C=$ v \\in V, \\sum_{k \\in V} x_{vk} >=1$  \n",
    "Ainsi $-\\sum_{k \\in V} x_{vk} <=-1$  \n",
    "$-\\sum_{k \\in V} x_{vk} +1 <=0$  \n",
    "Ainsi on obtient\n",
    "$$g_{v}(x) = (-\\sum_{k \\in V} x_{vk})+1$$  \n",
    "On veut\n",
    "$$\n",
    "pv(x) = \n",
    "\\begin{cases} \n",
    "0 & \\text{si } g_{v}(x)  \\leq 0 \\\\\n",
    ">0 & \\text{si } g_{v}(x) > 0 \n",
    "\\end{cases}\n",
    "$$\n",
    "Donc  \n",
    "$$\n",
    "pv(x) = \n",
    "\\begin{cases} \n",
    " g_{v}(x) & \\text{si } deg(v)=1   \\\\\n",
    " g_{v}(x)+x_{vk1}x_{vk2}  & \\text{si } deg(v)=2 \n",
    "\\end{cases}\n",
    "$$\n",
    "Ainsi on a\n",
    "$$\n",
    "pv(x) = \n",
    "\\begin{cases} \n",
    " -x_{vk}+1 & \\text{si } deg(v)=1   \\\\\n",
    " -x_{vk1}-x_{vk2}+1+x_{vk1}x_{vk2}  & \\text{si } deg(v)=2 \n",
    "\\end{cases}\n",
    "$$  \n",
    "Voici le signe des coefficients de pénalités\n",
    "$min \\sum_{i,j \\in E} x_{ij} + \\sum_{v,i \\in V^{2}} \\lambda_{v}(-x_{vi}+1) + \\sum_{v,i,j \\in V^{3}} \\lambda_{v}(-x_{vi}-x_{vj}+1+x_{vi}+x_{vj})$  \n",
    "donc on pose $z_{i} = 1-2x_{i}$  \n",
    "Donc $ \\sum_{i,j \\in E} \\frac{1-z_{ij}}{2} + \\sum_{v,i \\in V^{2}} \\lambda_{v}(\\frac{z_{ij}-1}{2}+1) + \\sum_{v,i,j \\in V^{3}} \\lambda_{v}(\\frac{z_{ij}-1}{2}+\\frac{z_{ij}-1}{2}+1+\\frac{(1-z_{vi})(1-z_{vj})}{4})$  \n",
    "Finalement on a Hp=$ \\sum_{i,j \\in E} \\frac{(1-2\\lambda_{v})(1-Z_{ij})}{2} + n*\\lambda_{v} + \\sum_{v,i,j \\in V^{3}} \\lambda_{v}(\\frac{1-Z_{vi}-Z_{vj}+Z_{vi}Z_{vj}}{4})$  \n",
    "\n"
   ]
  },
  {
   "cell_type": "code",
   "execution_count": 48,
   "metadata": {},
   "outputs": [
    {
     "name": "stdout",
     "output_type": "stream",
     "text": [
      "fval=4.0, x12=1.0, x13=1.0, x23=0.0, x45=1.0, x56=0.0, x67=1.0, status=SUCCESS\n"
     ]
    }
   ],
   "source": [
    "from qiskit_optimization import QuadraticProgram\n",
    "\n",
    "import math\n",
    "import numpy as np\n",
    "import networkx as nx\n",
    "import matplotlib as mpl\n",
    "import matplotlib.pyplot as plt \n",
    "from qiskit.visualization import plot_histogram\n",
    "from qiskit.algorithms.minimum_eigensolvers import QAOA\n",
    "from qiskit.algorithms.optimizers import COBYLA\n",
    "from qiskit_optimization.algorithms import MinimumEigenOptimizer\n",
    "from qiskit.primitives import Sampler\n",
    "\n",
    "# Constant\n",
    "lamba = 10\n",
    "sampler = Sampler()\n",
    "qubo=QuadraticProgram()\n",
    "#definebinary variables\n",
    "qubo.binary_var('x12')\n",
    "qubo.binary_var('x13')\n",
    "qubo.binary_var('x23')\n",
    "qubo.binary_var('x45')\n",
    "qubo.binary_var('x56')\n",
    "qubo.binary_var('x67')\n",
    "#qubo minimize\n",
    "qubo.minimize(constant=7*lamba,linear=[1-2*lamba,1-2*lamba,1-2*lamba,1-2*lamba,1-2*lamba,1-2*lamba], quadratic={('x12','x13'):lamba,('x12','x23'):lamba,('x13','x23'):lamba,('x45','x56'):lamba,('x56','x67'):lamba})\n",
    "qaoa_mes = QAOA(sampler=sampler ,optimizer=COBYLA(),reps=3)\n",
    "qaoa = MinimumEigenOptimizer(qaoa_mes)\n",
    "result = qaoa.solve(qubo)\n",
    "print(result)\n"
   ]
  },
  {
   "cell_type": "markdown",
   "metadata": {},
   "source": [
    "Exercice 3\n",
    "1)Le problème de décision associé est\n",
    "$$x \\in X \\quad tq \\quad \\sum_{(i,j) \\in E} x_{ij} \\le k \\quad avec \\quad pour \\quad tout \\quad v \\in V,\\sum_{k} x_{vk} \\ge 1$$\n"
   ]
  },
  {
   "cell_type": "markdown",
   "metadata": {},
   "source": [
    "Nous voulons construire l'algorithme de grover\n",
    "Ainsi on cherche à construire l'algorithme de Grover donc on définit f tel que \n",
    "$$\n",
    "f =\n",
    "\\begin{cases}\n",
    "1 & \\text{si } \\sum_{(i,j) \\in E} x_{ij}  \\leq k \\\\\n",
    "0 & \\text{sinon }  \n",
    "\\end{cases}\n",
    "$$\n",
    "On fait de même pour la deuxième condition\n",
    "\n",
    "Nous allons traduire notre condition en porte\n",
    "Ainsi l'oracle aura besoin de "
   ]
  },
  {
   "cell_type": "code",
   "execution_count": 46,
   "metadata": {},
   "outputs": [
    {
     "name": "stderr",
     "output_type": "stream",
     "text": [
      "c:\\Users\\aurel\\.conda\\envs\\deeplearning\\lib\\site-packages\\qiskit\\visualization\\circuit\\matplotlib.py:266: FutureWarning: The default matplotlib drawer scheme will be changed to \"iqp\" in a following release. To silence this warning, specify the current default explicitly as style=\"clifford\", or the new default as style=\"iqp\".\n",
      "  self._style, def_font_ratio = load_style(self._style)\n"
     ]
    },
    {
     "data": {
      "image/png": "[encoded data removed]",
      "text/plain": [
       "<Figure size 388.934x1036.78 with 1 Axes>"
      ]
     },
     "execution_count": 46,
     "metadata": {},
     "output_type": "execute_result"
    }
   ],
   "source": [
    "#algo de grover\n",
    "q = QuantumRegister(32,'q')\n",
    "c = ClassicalRegister(2)\n",
    "qc = QuantumCircuit(q,c)\n",
    "#Initialisation des q bits pour k\n",
    "qc.x(q[6])\n",
    "qc.x(q[7])\n",
    "#Initial des qbits pour l'algo de grover\n",
    "qc.h(q[0])\n",
    "qc.h(q[1])\n",
    "qc.h(q[2])\n",
    "qc.h(q[3])\n",
    "qc.h(q[4])\n",
    "qc.h(q[5])\n",
    "#flag\n",
    "qc.x(q[8])\n",
    "qc.x(q[9])\n",
    "qc.h(q[8])  \n",
    "qc.h(q[9])\n",
    "qc.h(q[10])\n",
    "qc.x(q[10])\n",
    "qc.barrier()\n",
    "#oracle 1\n",
    "#adder1\n",
    "qc.cx(q[0],q[11])\n",
    "qc.cx(q[1],q[11])\n",
    "qc.cx(q[32],q[11])#11 est Sum\n",
    "qc.ccx(q[0],q[1],q[12])\n",
    "qc.ccx(q[0],q[32],q[12])\n",
    "qc.ccx(q[1],q[32],q[12])\n",
    "#adder2\n",
    "qc.cx(q[2],q[13])\n",
    "qc.cx(q[3],q[13])\n",
    "qc.cx(q[32],q[13])\n",
    "qc.ccx(q[2],q[3],q[14])\n",
    "qc.ccx(q[2],q[32],q[14])\n",
    "qc.ccx(q[1],q[32],q[14])\n",
    "#adder3\n",
    "qc.cx(q[4],q[15])\n",
    "qc.cx(q[5],q[15])\n",
    "qc.cx(q[32],q[15])\n",
    "qc.ccx(q[4],q[5],q[16])\n",
    "qc.ccx(q[4],q[32],q[16])\n",
    "qc.ccx(q[5],q[32],q[16])\n",
    "#Ne pas oublier q6\n",
    "\n",
    "qc.draw(output='mpl')\n"
   ]
  },
  {
   "cell_type": "markdown",
   "metadata": {},
   "source": [
    "On peut réaliser la méthode de brut force de pour résoudre la couverture minimal\n",
    "Soit E un graphe et V l'enseble de ses sommets\n",
    "On fait\n",
    "Si |E|=0\n",
    "Si |E| ≥ k × |V | retourner FAUX\n",
    "Prendre une arête e = xy de G,\n",
    "et retourner VC_BF(G − {x}, k − 1)∨ VC_BF(G − {y}, k − 1)\n",
    "On fait tourner l'algo jusque ce que ce soit vide"
   ]
  },
  {
   "cell_type": "code",
   "execution_count": null,
   "metadata": {},
   "outputs": [],
   "source": []
  }
 ],
 "metadata": {
  "kernelspec": {
   "display_name": "deeplearning",
   "language": "python",
   "name": "python3"
  },
  "language_info": {
   "codemirror_mode": {
    "name": "ipython",
    "version": 3
   },
   "file_extension": ".py",
   "mimetype": "text/x-python",
   "name": "python",
   "nbconvert_exporter": "python",
   "pygments_lexer": "ipython3",
   "version": "3.9.13"
  }
 },
 "nbformat": 4,
 "nbformat_minor": 2
}
