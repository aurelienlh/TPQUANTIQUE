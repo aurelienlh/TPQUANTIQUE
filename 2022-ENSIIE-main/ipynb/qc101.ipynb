{
 "cells": [
  {
   "cell_type": "markdown",
   "metadata": {},
   "source": [
    "<table>\n",
    "   <tr>     \n",
    "    <td><img src=\"./images/logo-qiskit.png\" alt=\"Note: In order for images to show up in this jupyter notebook you need to select File => Trusted Notebook\" width=\"200 px\" align=\"left\"></td>\n",
    "    <td>  </td>\n",
    "    <td><img src=\"./images/logo-IBM.png\" alt=\"Note: In order for images to show up in this jupyter notebook you need to select File => Trusted Notebook\" width=\"200 px\" align=\"left\"></td>\n",
    "   </tr>\n",
    "</table>\n",
    "<br>\n",
    "\n",
    "\n",
    "# <center>Introduction à Qiskit</center>\n",
    "\n"
   ]
  },
  {
   "cell_type": "markdown",
   "metadata": {},
   "source": [
    "\n",
    "Ces exercices ont pour but de vous familiariser avec les éléments de base de qiskit et des circuits quantiques. \n",
    "\n",
    "Commençons par définir ce qu'est un circuit quantique : \n",
    "\n",
    "> **\"Un circuit quantique est une routine computationnelle d'opérations cohérentes sur des données quantiques, comme des états de qubits. Il s'agit d'une séquence ordonnée de portes quantiques, de mesures d'états, de remise à zéro, qui peut être conditionnée par du  calcul classique en temps réel.\"** (https://qiskit.org/textbook/ch-algorithms/defining-quantum-circuits.html)\n",
    "\n",
    "Si cette défiinition peut parler à des physiciens, elle peut vous sembler obscure, cese exercices vont vous permettre de manipuler ett mesurer les états des qubits, en leur  appliquant des portes quantiques. Vous serz alors en mesure de créer vos propres circuitts quantiques. \n",
    "\n",
    "Avant de commencer, il faut executer la première cellule ci-dessous en la selectionnant et en appuyant sur `shift + enter`. C'est la manière standard de d'executer du code dans l'environement des notebooks Jupyter. Pendant l'execution, vous verrez `In [*]:` en hauut à gauche de la cellule. Lorsque l'exécution est terminée, vouos verrer un nombre à la place de l'étoile, ce nombre vous indique le nombre d'executions de celulles qui on été faites. Plus d'informations sur les notebooks Jupyter ici :  https://qiskit.org/textbook/ch-prerequisites/python-and-jupyter-notebooks.html.\n",
    "\n",
    "La difficulté des exercices est indiquée par les couleurs de leur titres comme ceci :<span style=\"color:green\"><em> facile </span><span style=\"color:blue\"> moyen <span style=\"color:red\"> difficile </em></span>\n"
   ]
  },
  {
   "cell_type": "code",
   "execution_count": null,
   "metadata": {},
   "outputs": [],
   "source": [
    "import numpy as np\n",
    "\n",
    "from qiskit import Aer, QuantumCircuit, execute\n",
    "from qiskit.visualization import plot_histogram, plot_state_qsphere\n",
    "from qiskit.quantum_info import Statevector\n",
    "from IPython.display import display, Math, Latex\n"
   ]
  },
  {
   "cell_type": "markdown",
   "metadata": {},
   "source": [
    "##  Opérations de base sur les qubits, notions préliminaires "
   ]
  },
  {
   "cell_type": "markdown",
   "metadata": {},
   "source": [
    "### Ecriture des états de qubits \n",
    "Commençons par un seul qubit. A la différence d'un bit classique qui ne peut prendre que les valeurs 0 ou 1, un quantum bit ou **qubit**, peut être dans les états $\\vert0\\rangle$, $\\vert1\\rangle$, ainsi que dans une combinaison linéraire de ces deux états. C'est ce que l'on appelle la superposition, ce qui nous permet d'écrire l'état général d'un qubit sous cette forme : \n",
    "\n",
    "$$\\vert\\psi\\rangle = \\sqrt{1-p}\\vert0\\rangle + e^{i \\phi} \\sqrt{p}  \\vert1\\rangle$$\n",
    "\n",
    "Et si nous devions mesurer l'état de ce qubit, nous trouverions le resultat $1$ avec la probabilité $p$, et le resultat $0$ avec la probabilité $1-p$. Comme on peut le vois la somme des probabilités est $1$, c'eest à dire ue l'on va en effet mesurer soit $0$ soit $1$, et il n'y a pas d'autre résultats possibles.\n",
    "\n",
    "En plus de $p$, il y a un autre paramètre : la variable $\\phi$ indique la phase relative entre les deux états $\\vert0\\rangle$ et $\\vert1\\rangle$. Comme on va le voir, cette phase est importante, elle permet d'utiliser le phénomène d'interférence.\n",
    "\n",
    "Pour en savoir plus vous pouvez consulter https://qiskit.org/textbook/ch-states/representing-qubit-states.html"
   ]
  },
  {
   "cell_type": "markdown",
   "metadata": {},
   "source": [
    "### Visualisation des états quantiques\n",
    "Dans cet exercice, nous utiliserons la `qsphere`. Voici la représentation de la  `qsphere` pour lees états  $\\vert0\\rangle$ et $\\vert1\\rangle$, respectivement. Notons que le haut de la sphère represente l'état $\\vert0\\rangle$, alors que le bas représente l'état $\\vert1\\rangle$.\n",
    "\n",
    "<img src=\"./images/qsphere01.png\" alt=\"qsphere with states 0 and 1\" style=\"width: 400px;\"/>\n",
    "\n",
    "Alors il ne sera pas surprenant qu'un état de superposition de probabilité $p = 1/2$ (c'est à dire autant de chances de mesurer 0 que de chances de mesurer 1) apparaitra sur la  `qsphere` avec deux points. Noteze que la taille des cercles à ces deux points et plus petite que lorsque l'on a un seul point comme pour les états $\\vert0\\rangle$ ou  $\\vert1\\rangle$. C'est parceque les cercles ssont représentés avec des tailles proportionnelles aux probabilité de mesurer les états auxquels ils correspoondent. \n",
    "\n",
    "<img src=\"./images/qsphereplus.png\" alt=\"qsphere with superposition 1\" style=\"width: 200px;\"/>\n",
    "\n",
    "Si maintenant les états de superpositions pour lesquels la phase n'est pas nulle, la `qsphere` nous permet de visualiser la phase d'un état en changeant la couleur de la boule correspondante.  Par exemple, l'état pour lequel  $\\phi = 90^\\circ$ (degrees) et  $p = 1/2$ est montré sur la `qsphere` ci-dessous. \n",
    "\n",
    "<img src=\"./images/qspherey.png\" alt=\"qsphere with superposition 2\" style=\"width: 200px;\"/>\n"
   ]
  },
  {
   "cell_type": "markdown",
   "metadata": {},
   "source": [
    "### Manipulation des qubits\n",
    "On fait évoluer el'état des qubits en appliquant des portes quantiques. Voici les définitions de quelques portes quantiques que nous utiliserons dans ce noteboook.\n",
    "\n",
    "Premièrement, décrivons comment la valeur de $p$ change pour notre état quantique général, avec ces deux portes :\n",
    "\n",
    "1. **$X$-gate**: Cette porte échange les états $\\vert0\\rangle$ et $\\vert1\\rangle$. Cette opération ressemble à la porte classique NON (NOT). Ainsi, la $X$-gate est parfois appelée bit flip ou NOT gate. Mathematiquement, la porte $X$ change $p$ en $1-p$, et donc en particulier 0 en 1 et vice versa. \n",
    "\n",
    "2. **$H$-gate**: Cette porte fait passer de l'état $\\vert0\\rangle$ à l'état $\\frac{1}{\\sqrt{2}}\\left(\\vert0\\rangle + \\vert1\\rangle\\right)$. Cet état est aussi appelé  $\\vert+\\rangle$. Mathematiquement, cela fait aller de $p=0, \\phi=0$vers  $p=1/2, \\phi=0$.  Comme l'état résultant est une superposton des états $\\vert0\\rangle$ et $\\vert1\\rangle$, la porte de Hadamard represente réellement une opération de nature quantique.\n",
    "\n",
    "Notons que ces deux portes modifient la valeur de $p$, mais pas celle de $\\phi$. \n",
    "\n",
    "Plus généralement, le dessin ci-dessous nous permet de visualiser les actions de ces portes : \n",
    "\n",
    "<img src=\"./images/quantumgates.png\" alt=\"quantum gates\" style=\"width: 400px;\"/>\n",
    "\n",
    "Depuis l'état $\\vert+\\rangle$, on peut changer la phase en appliquant d'autres porte. Par exemple la porte $S$ gate ajoute $90$ degrés à $\\phi$, tandis que la porte $Z$ ajoute $180$ degrés à $\\phi$. Pour oter $90$ degrés à la phase, on peut utiliser la porte  $S^\\dagger$, que l'on lit S-dagger, et que l'on peut écrire `sdg`. Enfin, il y a la porte $Y$ qui applique une séquence de portes $Z$ et $X$ gates.\n",
    "\n",
    "Pour een savoir plus à propos de la description des états quantiques, des opérateurs de Pauli et des autres portes à un qubit, vous pouvez vous réfereer au premier chapitre du textbook : https://qiskit.org/textbook/ch-states/introduction.html."
   ]
  },
  {
   "cell_type": "markdown",
   "metadata": {},
   "source": [
    "Voici quelques exercices pour obtenir les différents états et les visualiser sur le `qsphere`. Voici la syntaxe à utiliser pour utiliser les différentes portes :\n",
    "\n",
    "    qc.x(0)    # bit flip\n",
    "    qc.y(0)    # bit flip et phase flip\n",
    "    qc.z(0)    # phase flip\n",
    "    qc.h(0)    # superpostion\n",
    "    qc.s(0)    # rotation de phase de pi/2 (90 degrees)\n",
    "    qc.sdg(0)  # rotation de phase de -pi/2 (90 degrees)\n",
    "    \n",
    "Le '(0)' indique que nous appliquons la porte au qubit 'q0', qui est le premier (et dans ce cas, le seul) qubit."
   ]
  },
  {
   "cell_type": "markdown",
   "metadata": {},
   "source": [
    "Dans les prochaines celulles, et afin de pouvoir visualiser l'état quantique d'un qubit, nous n'utilisons pas le simulateur usuel (`qasm_simulator`) pour lequel les qubits démarrent tous à 0, un circuit est appliqué et des mesures sont faites pour produire dse résultats. \n",
    "\n",
    "Au lieu de cela nous utiliserons le `statevector_simulator`, avec la possibilité de créer et composer un circuit, de démarrer depuis un état que l'on peut désigner (`Statevector.from_label('label)` )et de faire évoluer (`sv.evolvel(qc)` : `sv` étant un vecteur d'état et `qc` un circuit quantique) l'état pour visualiser l'état résultant à la sorti (sans le mesurer) par la fonction `plot_state_qshpere`.\n",
    "\n",
    "Voici un exemple"
   ]
  },
  {
   "cell_type": "code",
   "execution_count": null,
   "metadata": {},
   "outputs": [],
   "source": [
    "# Exemple\n",
    "def create_circuit(n):\n",
    "    qc = QuantumCircuit(n)\n",
    "    for i in range(n): \n",
    "        qc.h(i)\n",
    "    return qc\n",
    "\n",
    "\n",
    "n = 4\n",
    "qc = create_circuit(n)\n",
    "\n",
    "sv = Statevector.from_label('0'*n)\n",
    "sv = sv.evolve(qc)\n",
    "\n",
    "plot_state_qsphere(sv.data, show_state_labels=True, show_state_phases=True) "
   ]
  },
  {
   "cell_type": "markdown",
   "metadata": {},
   "source": [
    "A présent, revenons à 1 qubit, à vous de jouer"
   ]
  },
  {
   "cell_type": "markdown",
   "metadata": {},
   "source": [
    "## <span style=\"color:green\"><em>1. Opérations de base</em></span>"
   ]
  },
  {
   "cell_type": "markdown",
   "metadata": {},
   "source": [
    "### <span style=\"color:green\"><em>1.1 Commençons par un bit-flip, le but est d'atteindre l'état  $\\vert1\\rangle$ en partant de l'état $\\vert0\\rangle$. </em></span>\n",
    "\n",
    "On veut atteindre l'état : \n",
    "\n",
    "<img src=\"./images/state1.png\" width=\"300\"> \n",
    "\n",
    "(nb: il se peut qu'au fil des versions, le choix de couleur pour la phase 0 ait changé)"
   ]
  },
  {
   "cell_type": "code",
   "execution_count": null,
   "metadata": {},
   "outputs": [],
   "source": [
    "# 1.1\n",
    "def create_circuit():\n",
    "    qc = QuantumCircuit(1)\n",
    "    # Composez votre circuit ici\n",
    "    \n",
    "    \n",
    "    \n",
    "    return qc\n",
    "\n",
    "# verifier\n",
    "\n",
    "qc = create_circuit()\n",
    "\n",
    "sv = Statevector.from_label('0')\n",
    "sv = sv.evolve(qc)\n",
    "\n",
    "plot_state_qsphere(sv.data, show_state_labels=True, show_state_phases=True) "
   ]
  },
  {
   "cell_type": "markdown",
   "metadata": {},
   "source": [
    "### <span style=\"color:green\"><em>1.2 Créons un état superposé, le but est d'atteindre l'état  $|+\\rangle = \\frac{1}{\\sqrt{2}}\\left(|0\\rangle + |1\\rangle\\right)$ en partant de l'état $\\vert0\\rangle$. </em></span>\n",
    "<img src=\"./images/stateplus.png\" width=\"300\"> \n",
    "\n"
   ]
  },
  {
   "cell_type": "code",
   "execution_count": null,
   "metadata": {},
   "outputs": [],
   "source": [
    "# 1.2\n",
    "def create_circuit():\n",
    "    qc = QuantumCircuit(1)\n",
    "    # Composez votre circuit ici\n",
    "    \n",
    "    \n",
    "    #\n",
    "    return qc\n",
    "\n",
    "qc = create_circuit()\n",
    "sv = Statevector.from_label('0')\n",
    "sv = sv.evolve(qc)\n",
    "plot_state_qsphere(sv.data, show_state_labels=True, show_state_phases=True) "
   ]
  },
  {
   "cell_type": "markdown",
   "metadata": {},
   "source": [
    "### <span style=\"color:green\"><em>1.3 En combinant les 2 précédants, nous pouvons attendre  l'état  $|+\\rangle = \\frac{1}{\\sqrt{2}}\\left(|0\\rangle - |1\\rangle\\right)$  partant de l'état $\\vert0\\rangle$. </em></span>\n",
    "<img src=\"./images/stateminus.png\" width=\"300\"> "
   ]
  },
  {
   "cell_type": "code",
   "execution_count": null,
   "metadata": {},
   "outputs": [],
   "source": [
    "# 1.3\n",
    "def create_circuit():\n",
    "    qc = QuantumCircuit(1)\n",
    "    # Composez votre circuit ici #####\n",
    "   \n",
    "   \n",
    "    \n",
    "    ##################################\n",
    "    return qc\n",
    "\n",
    "qc = create_circuit()\n",
    "sv = Statevector.from_label('0')\n",
    "sv = sv.evolve(qc)\n",
    "plot_state_qsphere(sv.data, show_state_labels=True, show_state_phases=True) "
   ]
  },
  {
   "cell_type": "markdown",
   "metadata": {},
   "source": [
    "### <span style=\"color:green\"><em>1.4 Finalement, voyons un état faisant intervenir dse coordonnéeese complexes, tentons d'atteindre l'état  $|\\circlearrowleft\\rangle = \\frac{1}{\\sqrt{2}}\\left(|0\\rangle - i|1\\rangle\\right)$ en partant de l'état $\\vert0\\rangle$. </em></span>\n",
    "    \n",
    " <img src=\"./images/stateleft.png\" width=\"300\"> \n"
   ]
  },
  {
   "cell_type": "code",
   "execution_count": null,
   "metadata": {},
   "outputs": [],
   "source": [
    "# 1.4\n",
    "def create_circuit():\n",
    "    qc = QuantumCircuit(1)\n",
    "    # Composez votre circuit ici #######\n",
    "    \n",
    "    \n",
    "    ####################################\n",
    "    return qc\n",
    "\n",
    "qc = create_circuit()\n",
    "sv = Statevector.from_label('0')\n",
    "sv = sv.evolve(qc)\n",
    "plot_state_qsphere(sv.data, show_state_labels=True, show_state_phases=True) "
   ]
  },
  {
   "cell_type": "markdown",
   "metadata": {},
   "source": [
    "\n",
    "## 2. Circuits quantiques utilisant des portes à plusieurs qubits\n",
    "\n",
    "Les portes à deux qubits usuelles ont pour syntaxe :\n",
    "\n",
    "    qc.cx(c,t)       # controlled-X (= CNOT) c est le qubit de contrôle et t est le qubit \n",
    "                     # cible (target) \n",
    "    qc.cz(c,t)       # controlled-Z c est le qubit de contrôle et t est le qubit \n",
    "                     # cible (target) \n",
    "    qc.swap(a,b)     # SWAP porte qui échange les états des qubits a et b \n",
    "    \n",
    "Pour plus de détails au sujet des portes à plusieurs qubits : https://qiskit.org/textbook/ch-gates/introduction.html.\n",
    "\n",
    "We can now have up to four points on the qsphere."
   ]
  },
  {
   "cell_type": "markdown",
   "metadata": {},
   "source": [
    "Nous démarrons avec la porte à deux qubit : Controlled-NOT (ou CNOT ou CX, ou encore $C_x$. Comme dans toutes les portes à contrôle, un qubit est désigné controleur et l'autre cible (target). \n",
    "Si le qubit de contrôle est dans l'état $|0\\rangle$, alors l'état du qubit cible reste inchangé (l'opérateur Identité est appliqué), rien ne se passe. Si le qubit de contrôle est dans l'état $|1\\rangle$, alors une porte X est appliquée au qubit cible.\n",
    "\n",
    "Ainsi lorsque les deux qubits sont dans les états $|0\\rangle$ ou $|1\\rangle$, la porte CNOT effectue des opérations \"classiques\"\n",
    "\n",
    "Mais la situation change complètement si on applique d'abord une porte de Hadamard au qubit de contrôle, et qu'il se trouve dans l'état $|+\\rangle$. L'action de la porte CNOT sur cette entrée non classique produit des états intriqués entre le qubit de contrôle et le qubit cible. \n",
    "\n",
    "Si le qubit cible est initialenent dans l'état $|0\\rangle$, alors l'état résultant est noté $|\\Phi^+\\rangle$, et il s'agit d'un des états appelés états de Bell. \n"
   ]
  },
  {
   "cell_type": "markdown",
   "metadata": {},
   "source": [
    "### <span style=\"color:green\"><em>2.1 Contruisons l'état de Bell $|\\Phi^+\\rangle = \\frac{1}{\\sqrt{2}}\\left(|00\\rangle + |11\\rangle\\right)$. </em></span> \n",
    "\n",
    "<img src=\"./images/phi+.png\" width=\"300\"> \n",
    "Dans cet état, la probabilité de mesurer \"00\" vaut $\\frac{1}{2}$ de même que la probabilité de mesurer \"11\", ainsi les résultats des mesures de qubits sont parfaitement correlés."
   ]
  },
  {
   "cell_type": "code",
   "execution_count": null,
   "metadata": {},
   "outputs": [],
   "source": [
    "# 2.1 \n",
    "def create_circuit():\n",
    "    qc = QuantumCircuit(2)\n",
    "    # Composez votre circuit ici #####\n",
    "    \n",
    "\n",
    "\n",
    "    ##################################\n",
    "    return qc\n",
    "\n",
    "qc = create_circuit()\n",
    "sv = Statevector.from_label('00')\n",
    "sv = sv.evolve(qc)\n",
    "plot_state_qsphere(sv.data, show_state_labels=True, show_state_phases=True) "
   ]
  },
  {
   "cell_type": "markdown",
   "metadata": {},
   "source": [
    " ###  <span style=\"color:green\"><em>2.2 Maintenant construisons un autre état de Bell :  $\\vert\\Psi^-\\rangle = \\frac{1}{\\sqrt{2}}\\left(\\vert01\\rangle - \\vert10\\rangle\\right)$. <img src=\"./images/psi-.png\" width=\"300\"> \n",
    "\n",
    "Ici, les qubits sont anti-correlés. Notez aussi le signe moins, qui indique la phase relaive entre les deux états."
   ]
  },
  {
   "cell_type": "code",
   "execution_count": null,
   "metadata": {},
   "outputs": [],
   "source": [
    "# 2.2 \n",
    "def create_circuit():\n",
    "    qc = QuantumCircuit(2,2) # this time, we not only want two qubits, but also \n",
    "                             # two classical bits for the measurement later\n",
    "        \n",
    "    # Composez votre circuit ici #####\n",
    "    \n",
    "    ##################################\n",
    "    \n",
    "    return qc\n",
    "\n",
    "qc = create_circuit()\n",
    "sv = Statevector.from_label('00')\n",
    "sv = sv.evolve(qc)\n",
    "print(sv)\n",
    "plot_state_qsphere(sv.data, show_state_labels=True, show_state_phases=True) "
   ]
  },
  {
   "cell_type": "markdown",
   "metadata": {},
   "source": [
    "Ci-dessous, nous avons ajouté des opérations de mesure au circuit. Pour recueillir le résultat de la mesure, nous avons besoin de bits classiques, c'est pouruqoi le circuit a été créé avec deux arguments comme ceci : `qc = QuantumCircuit(num_qubits, num_classicalbits)`.\n",
    "\n",
    "Puis nous définissons une fonction `run_circuit()` pour exécuter un circuit (passé en paramètre) sur le simulateur local. Si l'état a été correctement préparé on aura la probabilité $\\frac{1}{2}$ de mesurer chacun des deux résultats possibles \"01\" et \"10\". Pour autant, le résultat de la mesure pour 1000 expériences ne signifie par que nous mesureons \"00\" exactement 500 fois (un peu comme lorsque l'on tire à pile ou face, il est peu probable de trouver **exactement**   un partage à 50/50.  Il y a en fait des fluctuations autour de cette valeur. On peut lancer `run_circuit` à plusieurs reprises pour observer ce phénomène."
   ]
  },
  {
   "cell_type": "code",
   "execution_count": null,
   "metadata": {},
   "outputs": [],
   "source": [
    "qc.measure(0, 0) # mesure du qubit q_0 et stockage du résultat dans le bit classique c_0\n",
    "qc.measure(1, 1) # mesure du qubit q_1 et stockage du résultat dans le bit classique c_1\n",
    "qc.draw(output='mpl') # on \"dessine\" le circtui"
   ]
  },
  {
   "cell_type": "code",
   "execution_count": null,
   "metadata": {},
   "outputs": [],
   "source": [
    "def run_circuit(qc):\n",
    "    backend = Aer.get_backend('qasm_simulator') # on choisit le simulateur basique comme backend\n",
    "    result = execute(qc, backend, shots = 1000).result() # on lance la simulation\n",
    "    counts = result.get_counts() # on récupère les comptages\n",
    "    return counts\n",
    "\n",
    "counts = run_circuit(qc)\n",
    "print(counts)\n",
    "plot_histogram(counts) # affichons les résultats sous forme d'histogramme"
   ]
  },
  {
   "cell_type": "markdown",
   "metadata": {},
   "source": [
    "### <span style=\"color:blue\"><em>2.3 on donne le circuit suivant. </em></span>\n",
    "    \n",
    "Swappez les états entre les deux qubits.  \n",
    "This should be your final state: <img src=\"./images/stateIIiii.png\" width=\"300\"> "
   ]
  },
  {
   "cell_type": "code",
   "execution_count": null,
   "metadata": {},
   "outputs": [],
   "source": [
    "# 9\n",
    "def create_circuit():\n",
    "    qc = QuantumCircuit(2)\n",
    "    ## partie initialisation\n",
    "    qc.rx(np.pi/3,0)\n",
    "    qc.x(1)\n",
    "    ## fin de l'initialisation \n",
    "    # Composez votre circuit ici #####\n",
    "    \n",
    "    \n",
    "    #################################\n",
    "    \n",
    "    return qc\n",
    "\n",
    "\n",
    "qc = create_circuit()\n",
    "sv = Statevector.from_label('00')\n",
    "sv = sv.evolve(qc)\n",
    "print(sv)\n",
    "plot_state_qsphere(sv.data, show_state_labels=True, show_state_phases=True) "
   ]
  },
  {
   "cell_type": "markdown",
   "metadata": {},
   "source": [
    "### <span style=\"color:blue\"><em>2.4 Ecrivez un programme depuis le début qui produit l'état GHZ sur 3 qubit$\\vert \\text{GHZ}\\rangle = \\frac{1}{\\sqrt{2}} \\left(|000\\rangle + |111 \\rangle \\right)$, effetcuez les mesures sur 2000 occurences, affichez le résultat. </em></span>\n",
    "    \n",
    "<img src=\"./images/ghz.png\" width=\"300\"> \n"
   ]
  },
  {
   "cell_type": "code",
   "execution_count": null,
   "metadata": {},
   "outputs": [],
   "source": [
    "# Composez votre code ici #####\n",
    "\n",
    "#\n"
   ]
  },
  {
   "cell_type": "code",
   "execution_count": null,
   "metadata": {},
   "outputs": [],
   "source": [
    "# Composez votre code ici #####\n",
    "\n",
    "#"
   ]
  },
  {
   "cell_type": "markdown",
   "metadata": {},
   "source": [
    "# <span style=\"color:red\"><em>3.1 : L'additionneur : </em></span>\n",
    "\n",
    "\n",
    "- Le dessin ci-dessous représente le circuit pour un additionneur à deux qubit avec retenue. \n",
    "<img src=\"./images/adder.png\" alt=\"full 2 qubit adder\" style=\"width: 600px;\"/>\n",
    "\n",
    "- Construire le circuit quantique correspondant,\n",
    "\n",
    "- Automatisez le pour vérifier le résultat pour les 8 entrées possibles (000 à 111),\n",
    "\n",
    "- Que se passe-t'il si on lui fournit (en A,B,$C_{in}$) une superposition des 3 valeurs ? \n"
   ]
  },
  {
   "cell_type": "code",
   "execution_count": null,
   "metadata": {},
   "outputs": [],
   "source": [
    "# Composez votre code ici #####\n",
    "\n",
    "\n",
    "#"
   ]
  },
  {
   "cell_type": "markdown",
   "metadata": {},
   "source": [
    "# <span style=\"color:red\"><em>4.1 : Superposez vos initiales : </em></span>"
   ]
  },
  {
   "cell_type": "markdown",
   "metadata": {},
   "source": [
    "\n",
    "Le but de cet exercice est de construire un circuit qui produit deux bitstrings différents, de manière équiprobable, en utilisant la superposition et l'intrication.\n",
    "\n",
    "\n",
    "On utilise un registre quantique de longueur 7 et le code ASCII pour représenter les lettres de A à Z. (de $b'1000001'$ pour le A à $b'1011010'$ pour le Z Z). \n",
    "\n",
    "Choisissez 2 lettres de l'aphabet, ce peut-être vos initiales. Par exemple Thomas Gaurond choisirait G  et T.\n",
    "\n",
    "Et le résultat ressemplberait à ceci \n",
    "\n",
    "<img src=\"./images/GT-initials.png\" alt=\"Note: In order for images to show up in this jupyter notebook you need to select File => Trusted Notebook\" width=\"350 px\" align=\"center\">\n",
    "\n",
    "\n",
    "Les import Python, et l'outil pour afficher les lettre sont fournis, il ne vous reste qu'à construire le circuit.\n",
    "\n",
    "Il vous faut donc :\n",
    "\n",
    "- choisir deux lettres (différentes)\n",
    "- trouver leur code en ASCII\n",
    "- construire un circuit quantique qui produit en sortie la superposition de ces deux valeurs \n",
    "\n",
    "Voici la table des codes ASCII de A à Z : \n",
    "\n",
    "\n",
    "| Letter | binary ASCII value | Letter | binary ASCII value | \n",
    "| ------ | ------------------ | ------ | ------------------ |\n",
    "| A | 100 0001 | N | 100 1110 |\n",
    "| B | 100 0010 | O | 100 1111 | \n",
    "| C | 100 0011 | P | 101 0000 |\n",
    "| D | 100 0100 | Q | 101 0001 |\n",
    "| E | 100 0101 | R | 101 0010 |\n",
    "| F | 100 0110 | S | 101 0011 |\n",
    "| G | 100 0111 | T | 101 0100 |\n",
    "| H | 100 1000 | U | 101 0101 |\n",
    "| I | 100 1001 | V | 101 0110 |\n",
    "| J | 100 1010 | W | 101 0111 |\n",
    "| K | 100 1011 | X | 101 1000 |\n",
    "| L | 100 1100 | Y | 101 1001 |\n",
    "| M | 100 1101 | Z | 101 1010 |\n"
   ]
  },
  {
   "cell_type": "code",
   "execution_count": null,
   "metadata": {},
   "outputs": [],
   "source": []
  },
  {
   "cell_type": "code",
   "execution_count": null,
   "metadata": {},
   "outputs": [],
   "source": [
    "from qiskit import ClassicalRegister, QuantumRegister\n",
    "from qiskit import QuantumCircuit, execute\n",
    "from qiskit.tools.visualization import plot_histogram\n",
    "from qiskit import IBMQ, BasicAer\n",
    "from qiskit.tools.jupyter import *\n",
    "import matplotlib.pyplot as plt\n",
    "%matplotlib inline"
   ]
  },
  {
   "cell_type": "markdown",
   "metadata": {},
   "source": [
    "### Construisez votre circuit ci-dessous, en prenant soin de le nommer `qc`\n"
   ]
  },
  {
   "cell_type": "code",
   "execution_count": null,
   "metadata": {},
   "outputs": [],
   "source": [
    "# ici"
   ]
  },
  {
   "cell_type": "code",
   "execution_count": null,
   "metadata": {},
   "outputs": [],
   "source": [
    "### NE PAS MODIFIER LE CODE CI-DESSOUS\n",
    "### il va executer vottre circuit\n",
    "### et produire l'affichage de la superposition des lettres :\n",
    "\n",
    "backend = BasicAer.get_backend('qasm_simulator')\n",
    "shots_sim = 10\n",
    "\n",
    "job_sim = execute(qc, backend, shots=shots_sim)\n",
    "stats_sim = job_sim.result().get_counts()\n",
    "\n",
    "def plot_letter (stats, shots):\n",
    "    ### code from the qiskit.org smiley demo\n",
    "    for bitString in stats:\n",
    "        char = chr(int( bitString[0:7] ,2)) \n",
    "        prob = stats[bitString] / shots \n",
    "      \n",
    "        plt.annotate( char, (0.5,0.5), va=\"center\", ha=\"center\", color = (0,0,0, prob ), size = 300)\n",
    "        if (prob>0.05): \n",
    "            print(str(prob)+\"\\t\"+char)\n",
    "    plt.axis('off')\n",
    "    plt.show()\n",
    "    \n",
    "print(shots_sim) \n",
    "print(stats_sim)\n",
    "plot_letter(stats_sim, shots_sim)"
   ]
  }
 ],
 "metadata": {
  "kernelspec": {
   "display_name": "Python 3",
   "language": "python",
   "name": "python3"
  },
  "language_info": {
   "codemirror_mode": {
    "name": "ipython",
    "version": 3
   },
   "file_extension": ".py",
   "mimetype": "text/x-python",
   "name": "python",
   "nbconvert_exporter": "python",
   "pygments_lexer": "ipython3",
   "version": "3.8.10"
  }
 },
 "nbformat": 4,
 "nbformat_minor": 2
}
