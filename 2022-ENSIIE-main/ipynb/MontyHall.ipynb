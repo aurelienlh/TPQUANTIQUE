{
 "cells": [
  {
   "cell_type": "code",
   "execution_count": 1,
   "metadata": {},
   "outputs": [
    {
     "ename": "ModuleNotFoundError",
     "evalue": "No module named 'qiskit'",
     "output_type": "error",
     "traceback": [
      "\u001b[1;31m---------------------------------------------------------------------------\u001b[0m",
      "\u001b[1;31mModuleNotFoundError\u001b[0m                       Traceback (most recent call last)",
      "\u001b[1;32m~\\AppData\\Local\\Temp\\ipykernel_8984\\415496564.py\u001b[0m in \u001b[0;36m<module>\u001b[1;34m\u001b[0m\n\u001b[1;32m----> 1\u001b[1;33m \u001b[1;32mimport\u001b[0m \u001b[0mqiskit\u001b[0m\u001b[1;33m\u001b[0m\u001b[1;33m\u001b[0m\u001b[0m\n\u001b[0m\u001b[0;32m      2\u001b[0m \u001b[0mqiskit\u001b[0m\u001b[1;33m.\u001b[0m\u001b[0m__qiskit_version__\u001b[0m\u001b[1;33m\u001b[0m\u001b[1;33m\u001b[0m\u001b[0m\n\u001b[0;32m      3\u001b[0m \u001b[1;32mfrom\u001b[0m \u001b[0mqiskit\u001b[0m \u001b[1;32mimport\u001b[0m \u001b[0mQuantumCircuit\u001b[0m\u001b[1;33m,\u001b[0m \u001b[0mQuantumRegister\u001b[0m\u001b[1;33m,\u001b[0m \u001b[0mClassicalRegister\u001b[0m\u001b[1;33m\u001b[0m\u001b[1;33m\u001b[0m\u001b[0m\n\u001b[0;32m      4\u001b[0m \u001b[1;32mfrom\u001b[0m \u001b[0mqiskit\u001b[0m \u001b[1;32mimport\u001b[0m \u001b[0mexecute\u001b[0m\u001b[1;33m\u001b[0m\u001b[1;33m\u001b[0m\u001b[0m\n\u001b[0;32m      5\u001b[0m \u001b[1;32mfrom\u001b[0m \u001b[0mqiskit\u001b[0m \u001b[1;32mimport\u001b[0m \u001b[0mAer\u001b[0m\u001b[1;33m\u001b[0m\u001b[1;33m\u001b[0m\u001b[0m\n",
      "\u001b[1;31mModuleNotFoundError\u001b[0m: No module named 'qiskit'"
     ]
    }
   ],
   "source": [
    "import qiskit\n",
    "qiskit.__qiskit_version__\n",
    "from qiskit import QuantumCircuit, QuantumRegister, ClassicalRegister\n",
    "from qiskit import execute\n",
    "from qiskit import Aer\n",
    "from random import randint\n",
    "\n",
    "#print(Aer.backends()) # ou de man\n",
    "backend_list  = Aer.backends()\n",
    "for be in backend_list:\n",
    "    print(be)\n",
    "backend = Aer.get_backend('qasm_simulator')\n",
    "from qiskit.tools.visualization import plot_bloch_multivector\n",
    "from qiskit.tools.visualization import plot_histogram\n",
    "\n",
    "# Creating a circuit with 8 quantum bits and 2 classical bits\n",
    "qc = QuantumCircuit(8,2)\n",
    "\n",
    "# Preparing inputs\n",
    "#qc.x(0) # Comment this line to make Qbit0 = |0>\n",
    "qc.x(1) # Comment this line to make Qbit1 = |0>\n",
    "qc.x(2) # Comment this line to make Qbit2 = |0> ( carry-in bit )\n",
    "qc.barrier()\n",
    "\n",
    "# AND gate1 implementation\n",
    "qc.ccx(0,1,3)\n",
    "qc.barrier()\n",
    "\n",
    "# OR gate1 implementation\n",
    "qc.cx(0,4) \n",
    "qc.cx(1,4)\n",
    "qc.barrier()\n",
    "\n",
    "# OR gate2 implementation\n",
    "qc.cx(2,5) \n",
    "qc.cx(4,5)\n",
    "qc.barrier()\n",
    "\n",
    "# AND gate2 implementation\n",
    "qc.ccx(2,4,6)\n",
    "qc.barrier()\n",
    "\n",
    "# OR gate implementation\n",
    "qc.x(3)\n",
    "qc.x(6)\n",
    "qc.ccx(3,6,7)\n",
    "qc.x(7)\n",
    "qc.barrier()\n",
    "\n",
    "# Measuring and put result to classical bit\n",
    "qc.measure(5,0) # ( sum )\n",
    "qc.measure(7,1) # ( carry-out )\n",
    "qc.draw(output='mpl')\n"
   ]
  },
  {
   "cell_type": "markdown",
   "metadata": {},
   "source": [
    "Construire un programme qui joue 1000 games, o`u une wining_door et un player_choice\n",
    "sont choisis au hasard, un compteur wins est incr´ement´e `a chaque fois que wining_door\n",
    "et player_choice sont identiques, on devrait trouver autour de 333 wins"
   ]
  },
  {
   "cell_type": "code",
   "execution_count": 14,
   "metadata": {},
   "outputs": [
    {
     "name": "stdout",
     "output_type": "stream",
     "text": [
      "66\n"
     ]
    },
    {
     "data": {
      "text/plain": [
       "66"
      ]
     },
     "execution_count": 14,
     "metadata": {},
     "output_type": "execute_result"
    }
   ],
   "source": [
    "def monty(game):\n",
    "    win = 0\n",
    "    for i in range(game):\n",
    "        player_choice = randint(0, 2)\n",
    "        winning_door = randint(0, 2)\n",
    "        possible_door=[\"goat\",\"goat\",\"goat\"]\n",
    "        possible_door[winning_door]=\"car\"\n",
    "        win += (possible_door[player_choice] == \"car\")\n",
    "        possible_door.pop(player_choice)\n",
    "        player_choice = randint(0, 1) \n",
    "        win += (possible_door[player_choice] == \"car\")\n",
    "        \n",
    "    print(win)\n",
    "    return win\n",
    "monty(100)    "
   ]
  },
  {
   "cell_type": "code",
   "execution_count": null,
   "metadata": {},
   "outputs": [],
   "source": []
  },
  {
   "cell_type": "markdown",
   "metadata": {},
   "source": []
  },
  {
   "cell_type": "code",
   "execution_count": null,
   "metadata": {},
   "outputs": [],
   "source": []
  }
 ],
 "metadata": {
  "kernelspec": {
   "display_name": "deeplearning",
   "language": "python",
   "name": "python3"
  },
  "language_info": {
   "codemirror_mode": {
    "name": "ipython",
    "version": 3
   },
   "file_extension": ".py",
   "mimetype": "text/x-python",
   "name": "python",
   "nbconvert_exporter": "python",
   "pygments_lexer": "ipython3",
   "version": "3.9.13"
  }
 },
 "nbformat": 4,
 "nbformat_minor": 2
}
